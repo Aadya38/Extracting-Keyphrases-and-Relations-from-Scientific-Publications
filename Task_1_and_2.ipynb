{
  "cells": [
    {
      "cell_type": "code",
      "execution_count": 1,
      "metadata": {
        "colab": {
          "base_uri": "https://localhost:8080/"
        },
        "id": "w5jLURR9idbc",
        "outputId": "6ae95fcc-9269-46ad-ed4d-bcf5191f0dbd"
      },
      "outputs": [
        {
          "name": "stdout",
          "output_type": "stream",
          "text": [
            "Requirement already satisfied: transformers in /usr/local/lib/python3.10/dist-packages (4.40.1)\n",
            "Requirement already satisfied: filelock in /usr/local/lib/python3.10/dist-packages (from transformers) (3.14.0)\n",
            "Requirement already satisfied: huggingface-hub<1.0,>=0.19.3 in /usr/local/lib/python3.10/dist-packages (from transformers) (0.23.0)\n",
            "Requirement already satisfied: numpy>=1.17 in /usr/local/lib/python3.10/dist-packages (from transformers) (1.25.2)\n",
            "Requirement already satisfied: packaging>=20.0 in /usr/local/lib/python3.10/dist-packages (from transformers) (24.0)\n",
            "Requirement already satisfied: pyyaml>=5.1 in /usr/local/lib/python3.10/dist-packages (from transformers) (6.0.1)\n",
            "Requirement already satisfied: regex!=2019.12.17 in /usr/local/lib/python3.10/dist-packages (from transformers) (2023.12.25)\n",
            "Requirement already satisfied: requests in /usr/local/lib/python3.10/dist-packages (from transformers) (2.31.0)\n",
            "Requirement already satisfied: tokenizers<0.20,>=0.19 in /usr/local/lib/python3.10/dist-packages (from transformers) (0.19.1)\n",
            "Requirement already satisfied: safetensors>=0.4.1 in /usr/local/lib/python3.10/dist-packages (from transformers) (0.4.3)\n",
            "Requirement already satisfied: tqdm>=4.27 in /usr/local/lib/python3.10/dist-packages (from transformers) (4.66.4)\n",
            "Requirement already satisfied: fsspec>=2023.5.0 in /usr/local/lib/python3.10/dist-packages (from huggingface-hub<1.0,>=0.19.3->transformers) (2023.6.0)\n",
            "Requirement already satisfied: typing-extensions>=3.7.4.3 in /usr/local/lib/python3.10/dist-packages (from huggingface-hub<1.0,>=0.19.3->transformers) (4.11.0)\n",
            "Requirement already satisfied: charset-normalizer<4,>=2 in /usr/local/lib/python3.10/dist-packages (from requests->transformers) (3.3.2)\n",
            "Requirement already satisfied: idna<4,>=2.5 in /usr/local/lib/python3.10/dist-packages (from requests->transformers) (3.7)\n",
            "Requirement already satisfied: urllib3<3,>=1.21.1 in /usr/local/lib/python3.10/dist-packages (from requests->transformers) (2.0.7)\n",
            "Requirement already satisfied: certifi>=2017.4.17 in /usr/local/lib/python3.10/dist-packages (from requests->transformers) (2024.2.2)\n",
            "Requirement already satisfied: datasets in /usr/local/lib/python3.10/dist-packages (2.19.1)\n",
            "Requirement already satisfied: filelock in /usr/local/lib/python3.10/dist-packages (from datasets) (3.14.0)\n",
            "Requirement already satisfied: numpy>=1.17 in /usr/local/lib/python3.10/dist-packages (from datasets) (1.25.2)\n",
            "Requirement already satisfied: pyarrow>=12.0.0 in /usr/local/lib/python3.10/dist-packages (from datasets) (14.0.2)\n",
            "Requirement already satisfied: pyarrow-hotfix in /usr/local/lib/python3.10/dist-packages (from datasets) (0.6)\n",
            "Requirement already satisfied: dill<0.3.9,>=0.3.0 in /usr/local/lib/python3.10/dist-packages (from datasets) (0.3.8)\n",
            "Requirement already satisfied: pandas in /usr/local/lib/python3.10/dist-packages (from datasets) (2.0.3)\n",
            "Requirement already satisfied: requests>=2.19.0 in /usr/local/lib/python3.10/dist-packages (from datasets) (2.31.0)\n",
            "Requirement already satisfied: tqdm>=4.62.1 in /usr/local/lib/python3.10/dist-packages (from datasets) (4.66.4)\n",
            "Requirement already satisfied: xxhash in /usr/local/lib/python3.10/dist-packages (from datasets) (3.4.1)\n",
            "Requirement already satisfied: multiprocess in /usr/local/lib/python3.10/dist-packages (from datasets) (0.70.16)\n",
            "Requirement already satisfied: fsspec[http]<=2024.3.1,>=2023.1.0 in /usr/local/lib/python3.10/dist-packages (from datasets) (2023.6.0)\n",
            "Requirement already satisfied: aiohttp in /usr/local/lib/python3.10/dist-packages (from datasets) (3.9.5)\n",
            "Requirement already satisfied: huggingface-hub>=0.21.2 in /usr/local/lib/python3.10/dist-packages (from datasets) (0.23.0)\n",
            "Requirement already satisfied: packaging in /usr/local/lib/python3.10/dist-packages (from datasets) (24.0)\n",
            "Requirement already satisfied: pyyaml>=5.1 in /usr/local/lib/python3.10/dist-packages (from datasets) (6.0.1)\n",
            "Requirement already satisfied: aiosignal>=1.1.2 in /usr/local/lib/python3.10/dist-packages (from aiohttp->datasets) (1.3.1)\n",
            "Requirement already satisfied: attrs>=17.3.0 in /usr/local/lib/python3.10/dist-packages (from aiohttp->datasets) (23.2.0)\n",
            "Requirement already satisfied: frozenlist>=1.1.1 in /usr/local/lib/python3.10/dist-packages (from aiohttp->datasets) (1.4.1)\n",
            "Requirement already satisfied: multidict<7.0,>=4.5 in /usr/local/lib/python3.10/dist-packages (from aiohttp->datasets) (6.0.5)\n",
            "Requirement already satisfied: yarl<2.0,>=1.0 in /usr/local/lib/python3.10/dist-packages (from aiohttp->datasets) (1.9.4)\n",
            "Requirement already satisfied: async-timeout<5.0,>=4.0 in /usr/local/lib/python3.10/dist-packages (from aiohttp->datasets) (4.0.3)\n",
            "Requirement already satisfied: typing-extensions>=3.7.4.3 in /usr/local/lib/python3.10/dist-packages (from huggingface-hub>=0.21.2->datasets) (4.11.0)\n",
            "Requirement already satisfied: charset-normalizer<4,>=2 in /usr/local/lib/python3.10/dist-packages (from requests>=2.19.0->datasets) (3.3.2)\n",
            "Requirement already satisfied: idna<4,>=2.5 in /usr/local/lib/python3.10/dist-packages (from requests>=2.19.0->datasets) (3.7)\n",
            "Requirement already satisfied: urllib3<3,>=1.21.1 in /usr/local/lib/python3.10/dist-packages (from requests>=2.19.0->datasets) (2.0.7)\n",
            "Requirement already satisfied: certifi>=2017.4.17 in /usr/local/lib/python3.10/dist-packages (from requests>=2.19.0->datasets) (2024.2.2)\n",
            "Requirement already satisfied: python-dateutil>=2.8.2 in /usr/local/lib/python3.10/dist-packages (from pandas->datasets) (2.8.2)\n",
            "Requirement already satisfied: pytz>=2020.1 in /usr/local/lib/python3.10/dist-packages (from pandas->datasets) (2023.4)\n",
            "Requirement already satisfied: tzdata>=2022.1 in /usr/local/lib/python3.10/dist-packages (from pandas->datasets) (2024.1)\n",
            "Requirement already satisfied: six>=1.5 in /usr/local/lib/python3.10/dist-packages (from python-dateutil>=2.8.2->pandas->datasets) (1.16.0)\n",
            "Requirement already satisfied: transformers[torch] in /usr/local/lib/python3.10/dist-packages (4.40.1)\n",
            "Requirement already satisfied: filelock in /usr/local/lib/python3.10/dist-packages (from transformers[torch]) (3.14.0)\n",
            "Requirement already satisfied: huggingface-hub<1.0,>=0.19.3 in /usr/local/lib/python3.10/dist-packages (from transformers[torch]) (0.23.0)\n",
            "Requirement already satisfied: numpy>=1.17 in /usr/local/lib/python3.10/dist-packages (from transformers[torch]) (1.25.2)\n",
            "Requirement already satisfied: packaging>=20.0 in /usr/local/lib/python3.10/dist-packages (from transformers[torch]) (24.0)\n",
            "Requirement already satisfied: pyyaml>=5.1 in /usr/local/lib/python3.10/dist-packages (from transformers[torch]) (6.0.1)\n",
            "Requirement already satisfied: regex!=2019.12.17 in /usr/local/lib/python3.10/dist-packages (from transformers[torch]) (2023.12.25)\n",
            "Requirement already satisfied: requests in /usr/local/lib/python3.10/dist-packages (from transformers[torch]) (2.31.0)\n",
            "Requirement already satisfied: tokenizers<0.20,>=0.19 in /usr/local/lib/python3.10/dist-packages (from transformers[torch]) (0.19.1)\n",
            "Requirement already satisfied: safetensors>=0.4.1 in /usr/local/lib/python3.10/dist-packages (from transformers[torch]) (0.4.3)\n",
            "Requirement already satisfied: tqdm>=4.27 in /usr/local/lib/python3.10/dist-packages (from transformers[torch]) (4.66.4)\n",
            "Requirement already satisfied: torch in /usr/local/lib/python3.10/dist-packages (from transformers[torch]) (2.2.1+cu121)\n",
            "Requirement already satisfied: accelerate>=0.21.0 in /usr/local/lib/python3.10/dist-packages (from transformers[torch]) (0.30.0)\n",
            "Requirement already satisfied: psutil in /usr/local/lib/python3.10/dist-packages (from accelerate>=0.21.0->transformers[torch]) (5.9.5)\n",
            "Requirement already satisfied: fsspec>=2023.5.0 in /usr/local/lib/python3.10/dist-packages (from huggingface-hub<1.0,>=0.19.3->transformers[torch]) (2023.6.0)\n",
            "Requirement already satisfied: typing-extensions>=3.7.4.3 in /usr/local/lib/python3.10/dist-packages (from huggingface-hub<1.0,>=0.19.3->transformers[torch]) (4.11.0)\n",
            "Requirement already satisfied: sympy in /usr/local/lib/python3.10/dist-packages (from torch->transformers[torch]) (1.12)\n",
            "Requirement already satisfied: networkx in /usr/local/lib/python3.10/dist-packages (from torch->transformers[torch]) (3.3)\n",
            "Requirement already satisfied: jinja2 in /usr/local/lib/python3.10/dist-packages (from torch->transformers[torch]) (3.1.3)\n",
            "Requirement already satisfied: nvidia-cuda-nvrtc-cu12==12.1.105 in /usr/local/lib/python3.10/dist-packages (from torch->transformers[torch]) (12.1.105)\n",
            "Requirement already satisfied: nvidia-cuda-runtime-cu12==12.1.105 in /usr/local/lib/python3.10/dist-packages (from torch->transformers[torch]) (12.1.105)\n",
            "Requirement already satisfied: nvidia-cuda-cupti-cu12==12.1.105 in /usr/local/lib/python3.10/dist-packages (from torch->transformers[torch]) (12.1.105)\n",
            "Requirement already satisfied: nvidia-cudnn-cu12==8.9.2.26 in /usr/local/lib/python3.10/dist-packages (from torch->transformers[torch]) (8.9.2.26)\n",
            "Requirement already satisfied: nvidia-cublas-cu12==12.1.3.1 in /usr/local/lib/python3.10/dist-packages (from torch->transformers[torch]) (12.1.3.1)\n",
            "Requirement already satisfied: nvidia-cufft-cu12==11.0.2.54 in /usr/local/lib/python3.10/dist-packages (from torch->transformers[torch]) (11.0.2.54)\n",
            "Requirement already satisfied: nvidia-curand-cu12==10.3.2.106 in /usr/local/lib/python3.10/dist-packages (from torch->transformers[torch]) (10.3.2.106)\n",
            "Requirement already satisfied: nvidia-cusolver-cu12==11.4.5.107 in /usr/local/lib/python3.10/dist-packages (from torch->transformers[torch]) (11.4.5.107)\n",
            "Requirement already satisfied: nvidia-cusparse-cu12==12.1.0.106 in /usr/local/lib/python3.10/dist-packages (from torch->transformers[torch]) (12.1.0.106)\n",
            "Requirement already satisfied: nvidia-nccl-cu12==2.19.3 in /usr/local/lib/python3.10/dist-packages (from torch->transformers[torch]) (2.19.3)\n",
            "Requirement already satisfied: nvidia-nvtx-cu12==12.1.105 in /usr/local/lib/python3.10/dist-packages (from torch->transformers[torch]) (12.1.105)\n",
            "Requirement already satisfied: triton==2.2.0 in /usr/local/lib/python3.10/dist-packages (from torch->transformers[torch]) (2.2.0)\n",
            "Requirement already satisfied: nvidia-nvjitlink-cu12 in /usr/local/lib/python3.10/dist-packages (from nvidia-cusolver-cu12==11.4.5.107->torch->transformers[torch]) (12.4.127)\n",
            "Requirement already satisfied: charset-normalizer<4,>=2 in /usr/local/lib/python3.10/dist-packages (from requests->transformers[torch]) (3.3.2)\n",
            "Requirement already satisfied: idna<4,>=2.5 in /usr/local/lib/python3.10/dist-packages (from requests->transformers[torch]) (3.7)\n",
            "Requirement already satisfied: urllib3<3,>=1.21.1 in /usr/local/lib/python3.10/dist-packages (from requests->transformers[torch]) (2.0.7)\n",
            "Requirement already satisfied: certifi>=2017.4.17 in /usr/local/lib/python3.10/dist-packages (from requests->transformers[torch]) (2024.2.2)\n",
            "Requirement already satisfied: MarkupSafe>=2.0 in /usr/local/lib/python3.10/dist-packages (from jinja2->torch->transformers[torch]) (2.1.5)\n",
            "Requirement already satisfied: mpmath>=0.19 in /usr/local/lib/python3.10/dist-packages (from sympy->torch->transformers[torch]) (1.3.0)\n",
            "Requirement already satisfied: accelerate in /usr/local/lib/python3.10/dist-packages (0.30.0)\n",
            "Requirement already satisfied: numpy>=1.17 in /usr/local/lib/python3.10/dist-packages (from accelerate) (1.25.2)\n",
            "Requirement already satisfied: packaging>=20.0 in /usr/local/lib/python3.10/dist-packages (from accelerate) (24.0)\n",
            "Requirement already satisfied: psutil in /usr/local/lib/python3.10/dist-packages (from accelerate) (5.9.5)\n",
            "Requirement already satisfied: pyyaml in /usr/local/lib/python3.10/dist-packages (from accelerate) (6.0.1)\n",
            "Requirement already satisfied: torch>=1.10.0 in /usr/local/lib/python3.10/dist-packages (from accelerate) (2.2.1+cu121)\n",
            "Requirement already satisfied: huggingface-hub in /usr/local/lib/python3.10/dist-packages (from accelerate) (0.23.0)\n",
            "Requirement already satisfied: safetensors>=0.3.1 in /usr/local/lib/python3.10/dist-packages (from accelerate) (0.4.3)\n",
            "Requirement already satisfied: filelock in /usr/local/lib/python3.10/dist-packages (from torch>=1.10.0->accelerate) (3.14.0)\n",
            "Requirement already satisfied: typing-extensions>=4.8.0 in /usr/local/lib/python3.10/dist-packages (from torch>=1.10.0->accelerate) (4.11.0)\n",
            "Requirement already satisfied: sympy in /usr/local/lib/python3.10/dist-packages (from torch>=1.10.0->accelerate) (1.12)\n",
            "Requirement already satisfied: networkx in /usr/local/lib/python3.10/dist-packages (from torch>=1.10.0->accelerate) (3.3)\n",
            "Requirement already satisfied: jinja2 in /usr/local/lib/python3.10/dist-packages (from torch>=1.10.0->accelerate) (3.1.3)\n",
            "Requirement already satisfied: fsspec in /usr/local/lib/python3.10/dist-packages (from torch>=1.10.0->accelerate) (2023.6.0)\n",
            "Requirement already satisfied: nvidia-cuda-nvrtc-cu12==12.1.105 in /usr/local/lib/python3.10/dist-packages (from torch>=1.10.0->accelerate) (12.1.105)\n",
            "Requirement already satisfied: nvidia-cuda-runtime-cu12==12.1.105 in /usr/local/lib/python3.10/dist-packages (from torch>=1.10.0->accelerate) (12.1.105)\n",
            "Requirement already satisfied: nvidia-cuda-cupti-cu12==12.1.105 in /usr/local/lib/python3.10/dist-packages (from torch>=1.10.0->accelerate) (12.1.105)\n",
            "Requirement already satisfied: nvidia-cudnn-cu12==8.9.2.26 in /usr/local/lib/python3.10/dist-packages (from torch>=1.10.0->accelerate) (8.9.2.26)\n",
            "Requirement already satisfied: nvidia-cublas-cu12==12.1.3.1 in /usr/local/lib/python3.10/dist-packages (from torch>=1.10.0->accelerate) (12.1.3.1)\n",
            "Requirement already satisfied: nvidia-cufft-cu12==11.0.2.54 in /usr/local/lib/python3.10/dist-packages (from torch>=1.10.0->accelerate) (11.0.2.54)\n",
            "Requirement already satisfied: nvidia-curand-cu12==10.3.2.106 in /usr/local/lib/python3.10/dist-packages (from torch>=1.10.0->accelerate) (10.3.2.106)\n",
            "Requirement already satisfied: nvidia-cusolver-cu12==11.4.5.107 in /usr/local/lib/python3.10/dist-packages (from torch>=1.10.0->accelerate) (11.4.5.107)\n",
            "Requirement already satisfied: nvidia-cusparse-cu12==12.1.0.106 in /usr/local/lib/python3.10/dist-packages (from torch>=1.10.0->accelerate) (12.1.0.106)\n",
            "Requirement already satisfied: nvidia-nccl-cu12==2.19.3 in /usr/local/lib/python3.10/dist-packages (from torch>=1.10.0->accelerate) (2.19.3)\n",
            "Requirement already satisfied: nvidia-nvtx-cu12==12.1.105 in /usr/local/lib/python3.10/dist-packages (from torch>=1.10.0->accelerate) (12.1.105)\n",
            "Requirement already satisfied: triton==2.2.0 in /usr/local/lib/python3.10/dist-packages (from torch>=1.10.0->accelerate) (2.2.0)\n",
            "Requirement already satisfied: nvidia-nvjitlink-cu12 in /usr/local/lib/python3.10/dist-packages (from nvidia-cusolver-cu12==11.4.5.107->torch>=1.10.0->accelerate) (12.4.127)\n",
            "Requirement already satisfied: requests in /usr/local/lib/python3.10/dist-packages (from huggingface-hub->accelerate) (2.31.0)\n",
            "Requirement already satisfied: tqdm>=4.42.1 in /usr/local/lib/python3.10/dist-packages (from huggingface-hub->accelerate) (4.66.4)\n",
            "Requirement already satisfied: MarkupSafe>=2.0 in /usr/local/lib/python3.10/dist-packages (from jinja2->torch>=1.10.0->accelerate) (2.1.5)\n",
            "Requirement already satisfied: charset-normalizer<4,>=2 in /usr/local/lib/python3.10/dist-packages (from requests->huggingface-hub->accelerate) (3.3.2)\n",
            "Requirement already satisfied: idna<4,>=2.5 in /usr/local/lib/python3.10/dist-packages (from requests->huggingface-hub->accelerate) (3.7)\n",
            "Requirement already satisfied: urllib3<3,>=1.21.1 in /usr/local/lib/python3.10/dist-packages (from requests->huggingface-hub->accelerate) (2.0.7)\n",
            "Requirement already satisfied: certifi>=2017.4.17 in /usr/local/lib/python3.10/dist-packages (from requests->huggingface-hub->accelerate) (2024.2.2)\n",
            "Requirement already satisfied: mpmath>=0.19 in /usr/local/lib/python3.10/dist-packages (from sympy->torch>=1.10.0->accelerate) (1.3.0)\n"
          ]
        }
      ],
      "source": [
        "!pip install transformers\n",
        "!pip install datasets\n",
        "!pip install transformers[torch]\n",
        "%pip install accelerate -U"
      ]
    },
    {
      "cell_type": "code",
      "execution_count": 3,
      "metadata": {
        "id": "riMijVS1ijio"
      },
      "outputs": [],
      "source": [
        "import pandas as pd\n",
        "import torch\n",
        "import numpy as np\n",
        "from transformers import AutoTokenizer, BertForTokenClassification, Trainer,TrainingArguments\n",
        "from torch.utils.data import DataLoader\n",
        "from tqdm import tqdm\n",
        "from torch.optim import SGD\n",
        "import datasets\n",
        "from sklearn.metrics import classification_report, accuracy_score, f1_score, confusion_matrix,ConfusionMatrixDisplay, precision_score, recall_score\n",
        "import matplotlib.pyplot as plt\n",
        "from transformers import AutoModelForTokenClassification"
      ]
    },
    {
      "cell_type": "code",
      "execution_count": 4,
      "metadata": {
        "colab": {
          "base_uri": "https://localhost:8080/"
        },
        "id": "4L1hQO7Yil8R",
        "outputId": "6e7696f6-e9a2-437a-8e99-f210474051c0"
      },
      "outputs": [
        {
          "name": "stdout",
          "output_type": "stream",
          "text": [
            "350 350\n",
            "50 50\n",
            "100 100\n"
          ]
        }
      ],
      "source": [
        "# Reading Dataset for preprocessing\n",
        "# def read_datasets(path):\n",
        "#     f = open(path)\n",
        "#     words= []\n",
        "#     tags= []\n",
        "#     word= []\n",
        "#     tag= []\n",
        "#     mx = []\n",
        "#     for line in f.readlines():\n",
        "#         line= line.split('\\t')\n",
        "#         if len(line)==2:\n",
        "#             word.append(line[0])\n",
        "#             tag.append(line[1].strip())\n",
        "#         else:\n",
        "#             mx.append(len(word))\n",
        "#             words.append(word)\n",
        "#             tags.append(tag)\n",
        "#             if len(word)!=len(tag):\n",
        "#                 print(line)\n",
        "#             word =[]\n",
        "#             tag = []\n",
        "#     print(len(words),len(tags))\n",
        "#     df = pd.DataFrame(columns=[\"text\",\"labels\"])\n",
        "\n",
        "#     df[\"text\"] = words\n",
        "#     df[\"labels\"] = tags\n",
        "\n",
        "#     return words, tags, df\n",
        "\n",
        "\n",
        "\n",
        "# train_words, train_tags, train_df = read_datasets('final_train.txt')\n",
        "# val_words, val_tags, val_df = read_datasets('final_val.txt')\n",
        "# test_words, test_tags, test_df = read_datasets('final_test.txt')"
      ]
    },
    {
      "cell_type": "code",
      "execution_count": null,
      "metadata": {},
      "outputs": [],
      "source": [
        "def read_datasets3(file_path):\n",
        "    with open(file_path, 'r') as file:\n",
        "        word_list = []\n",
        "        tag_list = []\n",
        "        current_words = []\n",
        "        current_tags = []\n",
        "        lengths = []\n",
        "\n",
        "        for line in file.readlines():\n",
        "            parts = line.split('\\t')\n",
        "            if len(parts) == 2:\n",
        "                current_words.append(parts[0])\n",
        "                current_tags.append(parts[1].strip())\n",
        "            elif line.strip() == '':\n",
        "                if len(current_words) != len(current_tags):\n",
        "                    print(\"Mismatch found:\", line)\n",
        "                word_list.append(current_words)\n",
        "                tag_list.append(current_tags)\n",
        "                lengths.append(len(current_words))\n",
        "                current_words = []\n",
        "                current_tags = []\n",
        "\n",
        "        print(f\"Total sentences: {len(word_list)}, Total tags: {len(tag_list)}\")\n",
        "\n",
        "        dataset_df = pd.DataFrame({\n",
        "            \"text\": word_list,\n",
        "            \"labels\": tag_list\n",
        "        })\n",
        "\n",
        "    return word_list, tag_list, dataset_df"
      ]
    },
    {
      "cell_type": "code",
      "execution_count": null,
      "metadata": {},
      "outputs": [],
      "source": [
        "\n",
        "train_words, train_tags, train_df = read_datasets3('final_train.txt')\n",
        "val_words, val_tags, val_df = read_datasets3('final_val.txt')\n",
        "test_words, test_tags, test_df = read_datasets3('final_test.txt')"
      ]
    },
    {
      "cell_type": "code",
      "execution_count": 5,
      "metadata": {
        "colab": {
          "base_uri": "https://localhost:8080/"
        },
        "id": "KPpi9sA5i2O-",
        "outputId": "8fe2b67a-d6c6-4ee8-d73a-5e8ac50700eb"
      },
      "outputs": [
        {
          "name": "stdout",
          "output_type": "stream",
          "text": [
            "Unique Tags :  ['O', 'B-Task', 'I-Task', 'B-Process', 'I-Process', 'B-Material', 'I-Material']\n",
            "Tags to ID  :  {'O': 0, 'B-Task': 1, 'I-Task': 2, 'B-Process': 3, 'I-Process': 4, 'B-Material': 5, 'I-Material': 6}\n",
            "ID to Tags :  {0: 'O', 1: 'B-Task', 2: 'I-Task', 3: 'B-Process', 4: 'I-Process', 5: 'B-Material', 6: 'I-Material'}\n"
          ]
        },
        {
          "name": "stderr",
          "output_type": "stream",
          "text": [
            "/usr/local/lib/python3.10/dist-packages/huggingface_hub/file_download.py:1132: FutureWarning: `resume_download` is deprecated and will be removed in version 1.0.0. Downloads always resume when possible. If you want to force a new download, use `force_download=True`.\n",
            "  warnings.warn(\n",
            "/usr/local/lib/python3.10/dist-packages/huggingface_hub/utils/_token.py:89: UserWarning: \n",
            "The secret `HF_TOKEN` does not exist in your Colab secrets.\n",
            "To authenticate with the Hugging Face Hub, create a token in your settings tab (https://huggingface.co/settings/tokens), set it as secret in your Google Colab and restart your session.\n",
            "You will be able to reuse this secret in all of your notebooks.\n",
            "Please note that authentication is recommended but still optional to access public models or datasets.\n",
            "  warnings.warn(\n"
          ]
        }
      ],
      "source": [
        "# Defining tags used in dataset\n",
        "unique_tags = ['O','B-Task', 'I-Task', 'B-Process', 'I-Process', 'B-Material', 'I-Material']\n",
        "tag2id = {tag: id for id, tag in enumerate(unique_tags)}\n",
        "id2tag = {id: tag for tag, id in tag2id.items()}\n",
        "# print(\"Unique Tags : \", unique_tags)\n",
        "# print(\"Tags to ID  : \", tag2id)\n",
        "# print(\"ID to Tags : \", id2tag)\n",
        "\n",
        "\n",
        "tokenizer = AutoTokenizer.from_pretrained(\"allenai/scibert_scivocab_uncased\")"
      ]
    },
    {
      "cell_type": "code",
      "execution_count": 6,
      "metadata": {
        "id": "Sb0FP3ayi8ql"
      },
      "outputs": [],
      "source": [
        "# Generating Encoding for train,val and test words\n",
        "train_encodings = tokenizer(train_words, is_split_into_words=True, return_offsets_mapping=True, padding=True, truncation=True, max_length=512)\n",
        "val_encodings = tokenizer(val_words, is_split_into_words=True, return_offsets_mapping=True, padding=True, truncation=True,max_length=512)\n",
        "test_encodings = tokenizer(test_words, is_split_into_words=True, return_offsets_mapping=True, padding=True, truncation=True,max_length=512)"
      ]
    },
    {
      "cell_type": "code",
      "execution_count": 7,
      "metadata": {
        "id": "wTOu9OGgjIYD"
      },
      "outputs": [],
      "source": [
        "# Function to encode tags\n",
        "def encode_tags(tags, encodings):\n",
        "    labels = [[tag2id[tag] for tag in doc] for doc in tags]\n",
        "    encoded_labels = []\n",
        "    for doc_labels, doc_offset in zip(labels, encodings.offset_mapping):\n",
        "        doc_enc_labels = np.ones(len(doc_offset),dtype=int) * 0\n",
        "        arr_offset = np.array(doc_offset)\n",
        "\n",
        "        doc_enc_labels[(arr_offset[:,0] == 0) & (arr_offset[:,1] != 0)] = doc_labels\n",
        "        encoded_labels.append(doc_enc_labels.tolist())\n",
        "\n",
        "    return encoded_labels\n",
        "\n",
        "train_labels = encode_tags(train_tags, train_encodings)\n",
        "val_labels = encode_tags(val_tags, val_encodings)\n",
        "test_labels = encode_tags(test_tags, test_encodings)"
      ]
    },
    {
      "cell_type": "code",
      "execution_count": 8,
      "metadata": {
        "id": "ejH0i5XKjX56"
      },
      "outputs": [],
      "source": [
        "# Class for SemEval Dataset for encoding and labels\n",
        "class SemEvalDataset(torch.utils.data.Dataset):\n",
        "    def __init__(self, encodings, labels):\n",
        "        self.encodings = encodings\n",
        "        self.labels = labels\n",
        "\n",
        "    def __getitem__(self, idx):\n",
        "        item = {key: torch.tensor(val[idx]) for key, val in self.encodings.items()}\n",
        "        item['labels'] = torch.tensor(self.labels[idx])\n",
        "        return item\n",
        "\n",
        "    def __len__(self):\n",
        "        return len(self.labels)\n",
        "\n",
        "train_encodings.pop(\"offset_mapping\")\n",
        "val_encodings.pop(\"offset_mapping\")\n",
        "test_encodings.pop(\"offset_mapping\")\n",
        "\n",
        "train_dataset = SemEvalDataset(train_encodings, train_labels)\n",
        "val_dataset = SemEvalDataset(val_encodings, val_labels)\n",
        "test_dataset = SemEvalDataset(test_encodings, test_labels)"
      ]
    },
    {
      "cell_type": "code",
      "execution_count": 9,
      "metadata": {
        "id": "ofRet6tyjjN1"
      },
      "outputs": [],
      "source": [
        "# Fine tuning the model and adding parameters\n",
        "\n",
        "BATCH_SIZE = 4\n",
        "EPOCHS = 10\n",
        "training_args = TrainingArguments(\n",
        "    output_dir = \"Output\",\n",
        "    evaluation_strategy = \"no\",\n",
        "    save_strategy = \"no\",\n",
        "    learning_rate = 2e-5,\n",
        "    per_device_train_batch_size = BATCH_SIZE,\n",
        "    per_device_eval_batch_size = BATCH_SIZE,\n",
        "    num_train_epochs = EPOCHS,\n",
        "    weight_decay=0.01,\n",
        "    load_best_model_at_end=True,\n",
        "    push_to_hub=False,\n",
        "    do_train = True,\n",
        "    do_eval = True,\n",
        "    do_predict = True,\n",
        "   remove_unused_columns = False\n",
        ")"
      ]
    },
    {
      "cell_type": "code",
      "execution_count": 10,
      "metadata": {
        "colab": {
          "base_uri": "https://localhost:8080/",
          "height": 245
        },
        "id": "yH0vC62ijv2s",
        "outputId": "4d63cd22-47b0-4d55-ffa0-06e5160306e8"
      },
      "outputs": [
        {
          "name": "stderr",
          "output_type": "stream",
          "text": [
            "/usr/local/lib/python3.10/dist-packages/huggingface_hub/file_download.py:1132: FutureWarning: `resume_download` is deprecated and will be removed in version 1.0.0. Downloads always resume when possible. If you want to force a new download, use `force_download=True`.\n",
            "  warnings.warn(\n",
            "Some weights of BertForTokenClassification were not initialized from the model checkpoint at allenai/scibert_scivocab_uncased and are newly initialized: ['classifier.bias', 'classifier.weight']\n",
            "You should probably TRAIN this model on a down-stream task to be able to use it for predictions and inference.\n"
          ]
        },
        {
          "data": {
            "text/html": [
              "\n",
              "    <div>\n",
              "      \n",
              "      <progress value='880' max='880' style='width:300px; height:20px; vertical-align: middle;'></progress>\n",
              "      [880/880 04:01, Epoch 10/10]\n",
              "    </div>\n",
              "    <table border=\"1\" class=\"dataframe\">\n",
              "  <thead>\n",
              " <tr style=\"text-align: left;\">\n",
              "      <th>Step</th>\n",
              "      <th>Training Loss</th>\n",
              "    </tr>\n",
              "  </thead>\n",
              "  <tbody>\n",
              "    <tr>\n",
              "      <td>500</td>\n",
              "      <td>0.103300</td>\n",
              "    </tr>\n",
              "  </tbody>\n",
              "</table><p>"
            ],
            "text/plain": [
              "<IPython.core.display.HTML object>"
            ]
          },
          "metadata": {},
          "output_type": "display_data"
        },
        {
          "data": {
            "text/plain": [
              "TrainOutput(global_step=880, training_loss=0.06872814351862128, metrics={'train_runtime': 242.9773, 'train_samples_per_second': 14.405, 'train_steps_per_second': 3.622, 'total_flos': 609124563663000.0, 'train_loss': 0.06872814351862128, 'epoch': 10.0})"
            ]
          },
          "execution_count": 10,
          "metadata": {},
          "output_type": "execute_result"
        }
      ],
      "source": [
        "# Training\n",
        "model = AutoModelForTokenClassification.from_pretrained('allenai/scibert_scivocab_uncased', num_labels=len(unique_tags))\n",
        "trainer = Trainer(model=model,args=training_args,train_dataset=train_dataset,eval_dataset=val_dataset)\n",
        "trainer.train()"
      ]
    },
    {
      "cell_type": "code",
      "execution_count": 12,
      "metadata": {
        "colab": {
          "base_uri": "https://localhost:8080/",
          "height": 17
        },
        "id": "ut9Gr7sVmJL8",
        "outputId": "ead93379-2773-4ffe-a5a1-c5eb7f76534f"
      },
      "outputs": [
        {
          "data": {
            "text/html": [],
            "text/plain": [
              "<IPython.core.display.HTML object>"
            ]
          },
          "metadata": {},
          "output_type": "display_data"
        }
      ],
      "source": [
        "# Evaluation\n",
        "trainer.evaluate()\n",
        "predictions, labels, metrics = trainer.predict(test_dataset, metric_key_prefix=\"predict\")\n",
        "y_pred = np.argmax(predictions, 2)\n",
        "y_pred_fl = y_pred.flatten()\n",
        "y_true = labels.flatten()"
      ]
    },
    {
      "cell_type": "code",
      "execution_count": 14,
      "metadata": {
        "colab": {
          "base_uri": "https://localhost:8080/",
          "height": 540
        },
        "id": "U15lNu1Aj3P5",
        "outputId": "21278a7e-c42f-4f15-ba70-765036254ec8"
      },
      "outputs": [
        {
          "name": "stdout",
          "output_type": "stream",
          "text": [
            "Confusion Matrix : \n"
          ]
        },
        {
          "data": {
            "image/png": "[encoded data removed]",
            "text/plain": [
              "<Figure size 640x480 with 2 Axes>"
            ]
          },
          "metadata": {},
          "output_type": "display_data"
        }
      ],
      "source": [
        "# Confusion matrix\n",
        "print(\"Confusion Matrix : \")\n",
        "cm = confusion_matrix(y_pred_fl, y_true)\n",
        "display = ConfusionMatrixDisplay(cm, display_labels=unique_tags)\n",
        "display.plot(cmap=plt.cm.Blues, values_format='d')\n",
        "plt.xticks(rotation=45, ha='right', fontsize=10)\n",
        "plt.yticks(rotation=0, fontsize=10)\n",
        "plt.xlabel('Predicted Label', fontsize=12)\n",
        "plt.ylabel('True Label', fontsize=12)\n",
        "plt.title('Confusion Matrix', fontsize=14)\n",
        "plt.grid(False)\n",
        "plt.show()"
      ]
    },
    {
      "cell_type": "code",
      "execution_count": 20,
      "metadata": {
        "colab": {
          "base_uri": "https://localhost:8080/"
        },
        "id": "q9Cch692qwfD",
        "outputId": "3afb6bab-98e3-4c37-e2c3-3e6600c0a384"
      },
      "outputs": [
        {
          "name": "stdout",
          "output_type": "stream",
          "text": [
            "              precision    recall  f1-score   support\n",
            "\n",
            "           O       0.98      0.99      0.98     32628\n",
            "      B-Task       0.27      0.26      0.27        72\n",
            "      I-Task       0.49      0.33      0.40       336\n",
            "   B-Process       0.39      0.24      0.30       211\n",
            "   I-Process       0.38      0.29      0.33       288\n",
            "  B-Material       0.36      0.22      0.28       193\n",
            "  I-Material       0.32      0.20      0.25       172\n",
            "\n",
            "    accuracy                           0.96     33900\n",
            "   macro avg       0.46      0.36      0.40     33900\n",
            "weighted avg       0.96      0.96      0.96     33900\n",
            "\n",
            "\n",
            "****************************************************************\n",
            "Precision Score - \n",
            "1. Class-wise :\n",
            "\t O \t 0.9786\n",
            "\t B-Task \t 0.2676\n",
            "\t I-Task \t 0.4912\n",
            "\t B-Process \t 0.3937\n",
            "\t I-Process \t 0.3825\n",
            "\t B-Material \t 0.3644\n",
            "\t I-Material \t 0.3241\n",
            "\n",
            "2. micro :  0.9636283185840708\n",
            "3. macro :  0.457447137637009\n",
            "\n",
            "****************************************************************\n",
            "Recall Score - \n",
            "1. Class-wise :\n",
            "\t O \t 0.9907\n",
            "\t B-Task \t 0.2639\n",
            "\t I-Task \t 0.3333\n",
            "\t B-Process \t 0.237\n",
            "\t I-Process \t 0.2882\n",
            "\t B-Material \t 0.2228\n",
            "\t I-Material \t 0.2035\n",
            "\n",
            "2. micro :  0.9636283185840708\n",
            "3. macro :  0.3627690412106849\n",
            "\n",
            "****************************************************************\n",
            "F1 Score - \n",
            "1. Class-wise :\n",
            "\t O \t 0.9846\n",
            "\t B-Task \t 0.2657\n",
            "\t I-Task \t 0.3972\n",
            "\t B-Process \t 0.2959\n",
            "\t I-Process \t 0.3287\n",
            "\t B-Material \t 0.2765\n",
            "\t I-Material \t 0.25\n",
            "\n",
            "2. micro :  0.9636283185840708\n",
            "3. macro :  0.3998040429373771\n",
            "\n",
            "****************************************************************\n",
            "Accuracy Score :  0.9636283185840708\n"
          ]
        }
      ],
      "source": [
        "# Classification Report\n",
        "cr = classification_report(y_true, y_pred_fl,target_names=unique_tags)\n",
        "print(cr)\n",
        "\n",
        "# Class wise Report\n",
        "#Precision\n",
        "print()\n",
        "print(\"****************************************************************\")\n",
        "print(\"Precision Score - \")\n",
        "class_wise = precision_score(y_true, y_pred_fl, average=None)\n",
        "print(\"1. Class-wise :\")\n",
        "for i in range(len(class_wise)):\n",
        "    print(\"\\t\", unique_tags[i], \"\\t\", round(class_wise[i],4))\n",
        "print()\n",
        "print(\"2. micro : \", precision_score(y_true, y_pred_fl, average='micro'))\n",
        "print(\"3. macro : \", precision_score(y_true, y_pred_fl, average='macro'))\n",
        "\n",
        "#Recall\n",
        "print()\n",
        "print(\"****************************************************************\")\n",
        "print(\"Recall Score - \")\n",
        "class_wise = recall_score(y_true, y_pred_fl, average=None)\n",
        "print(\"1. Class-wise :\")\n",
        "for i in range(len(class_wise)):\n",
        "    print(\"\\t\", unique_tags[i], \"\\t\", round(class_wise[i],4))\n",
        "print()\n",
        "print(\"2. micro : \", recall_score(y_true, y_pred_fl, average='micro'))\n",
        "print(\"3. macro : \", recall_score(y_true, y_pred_fl, average='macro'))\n",
        "\n",
        "#F1 Score\n",
        "print()\n",
        "print(\"****************************************************************\")\n",
        "print(\"F1 Score - \")\n",
        "class_wise = f1_score(y_true, y_pred_fl, average=None)\n",
        "print(\"1. Class-wise :\")\n",
        "for i in range(len(class_wise)):\n",
        "    print(\"\\t\", unique_tags[i], \"\\t\", round(class_wise[i],4))\n",
        "print()\n",
        "print(\"2. micro : \", f1_score(y_true, y_pred_fl, average='micro'))\n",
        "print(\"3. macro : \", f1_score(y_true, y_pred_fl, average='macro'))\n",
        "\n",
        "# Overall accuraccy\n",
        "print()\n",
        "print(\"****************************************************************\")\n",
        "print(\"Accuracy Score : \" ,accuracy_score(y_true, y_pred_fl))"
      ]
    },
    {
      "cell_type": "code",
      "execution_count": 23,
      "metadata": {
        "id": "zg5u5TAUr1Y1"
      },
      "outputs": [],
      "source": [
        "# from torch import cuda\n",
        "\n",
        "# # Move model to the appropriate device\n",
        "# device = 'cuda' if cuda.is_available() else 'cpu'\n",
        "# model.to(device)\n",
        "\n",
        "# # Token Classification\n",
        "# def token_classification(input_text, flag=False):\n",
        "#     if flag:\n",
        "#         print(\"\\033[1;31;47mProcess\\033[1;32;47m Task\\033[1;34;47m Material\")\n",
        "#         print()\n",
        "#     inputs = tokenizer(input_text, return_tensors=\"pt\")\n",
        "#     inputs = inputs.to(device)  # Move input data to the same device as the model\n",
        "#     outputs = model(**inputs)\n",
        "#     probabilities = torch.nn.functional.softmax(outputs.logits, dim=-1)[0].tolist()\n",
        "#     predictions = outputs.logits.argmax(dim=-1)[0].tolist()\n",
        "#     unique_tags = ['O','B-Task', 'I-Task', 'B-Process', 'I-Process', 'B-Material', 'I-Material']\n",
        "#     ans = [unique_tags[i] for i in predictions]\n",
        "#     text = tokenizer.convert_ids_to_tokens(inputs['input_ids'][0])\n",
        "#     final_output = \"\"\n",
        "#     for i in range(len(text)):\n",
        "#         if flag:\n",
        "#             if ans[i]=='O':\n",
        "#                 print(\"\\033[0;30;47m\"+text[i]+\"\\033[0;37;47m\", end =\" \")\n",
        "#             elif ans[i]=='B-Process' or ans[i]=='I-Process':\n",
        "#                 print(\"\\033[1;31;47m\"+text[i]+\"\\033[0;37;47m\",end=\" \")\n",
        "#             elif ans[i]=='B-Task' or ans[i]=='I-Task':\n",
        "#                 print(\"\\033[1;32;47m\"+text[i]+\"\\033[0;37;47m\",end=\" \")\n",
        "#             else:\n",
        "#                 print(\"\\033[1;34;47m\"+text[i]+\"\\033[0;37;47m\",end=\" \")\n",
        "#         else:\n",
        "#             final_output += text[i] + \"\\t\" + ans[i] + \"\\n\"\n",
        "\n",
        "#     if not flag:\n",
        "#         return final_output\n"
      ]
    },
    {
      "cell_type": "code",
      "execution_count": null,
      "metadata": {},
      "outputs": [],
      "source": [
        "import torch\n",
        "from torch import cuda\n",
        "\n",
        "# Set up device based on CUDA availability\n",
        "device = 'cuda' if cuda.is_available() else 'cpu'\n",
        "\n",
        "# Ensure the model is transferred to the appropriate compute device\n",
        "model.to(device)\n",
        "\n",
        "def token_classification(input_text, verbose=False):\n",
        "    # Tokenize input text and prepare inputs for the model\n",
        "    inputs = tokenizer(input_text, return_tensors=\"pt\")\n",
        "    inputs = inputs.to(device)  # Align input tensor device with model's device\n",
        "    \n",
        "    # Perform inference\n",
        "    with torch.no_grad():  # Disable gradient computation for inference\n",
        "        outputs = model(**inputs)\n",
        "    \n",
        "    # Process model outputs\n",
        "    probabilities = torch.nn.functional.softmax(outputs.logits, dim=-1)[0].tolist()\n",
        "    predictions = outputs.logits.argmax(dim=-1)[0].tolist()\n",
        "    tag_labels = ['O', 'B-Task', 'I-Task', 'B-Process', 'I-Process', 'B-Material', 'I-Material']\n",
        "    classified_tags = [tag_labels[i] for i in predictions]\n",
        "    tokenized_text = tokenizer.convert_ids_to_tokens(inputs['input_ids'][0])\n",
        "    \n",
        "    # Generate output based on the verbose flag\n",
        "    if verbose:\n",
        "        # Print each token with its corresponding tag, colored based on the tag type\n",
        "        for token, tag in zip(tokenized_text, classified_tags):\n",
        "            color = \"\\033[0;37;47m\"  # Default white\n",
        "            if tag.startswith('B-Process') or tag.startswith('I-Process'):\n",
        "                color = \"\\033[1;31;47m\"  # Red for Process\n",
        "            elif tag.startswith('B-Task') or tag.startswith('I-Task'):\n",
        "                color = \"\\033[1;32;47m\"  # Green for Task\n",
        "            elif tag.startswith('B-Material') or tag.startswith('I-Material'):\n",
        "                color = \"\\033[1;34;47m\"  # Blue for Material\n",
        "            print(f\"{color}{token}\\033[0;37;47m\", end=\" \")\n",
        "        print()  # Ensure newline at the end of the printout\n",
        "    else:\n",
        "        # Concatenate each token with its tag for non-verbose output\n",
        "        return '\\n'.join(f\"{token}\\t{tag}\" for token, tag in zip(tokenized_text, classified_tags))\n"
      ]
    },
    {
      "cell_type": "code",
      "execution_count": 24,
      "metadata": {
        "colab": {
          "base_uri": "https://localhost:8080/"
        },
        "id": "l5pKqgCIscu0",
        "outputId": "725efcfc-d7f1-4db6-c712-e8d6a77e2e34"
      },
      "outputs": [
        {
          "name": "stdout",
          "output_type": "stream",
          "text": [
            "\u001b[1;31;47mProcess\u001b[1;32;47m Task\u001b[1;34;47m Material\n",
            "\n",
            "\u001b[0;30;47m[CLS]\u001b[0;37;47m \u001b[0;30;47mthe\u001b[0;37;47m \u001b[0;30;47mstudy\u001b[0;37;47m \u001b[0;30;47moutlines\u001b[0;37;47m \u001b[0;30;47ma\u001b[0;37;47m \u001b[0;30;47mtrial\u001b[0;37;47m \u001b[0;30;47mof\u001b[0;37;47m \u001b[1;32;47mtransient\u001b[0;37;47m \u001b[1;32;47mresponse\u001b[0;37;47m \u001b[1;32;47manalysis\u001b[0;37;47m \u001b[0;30;47mon\u001b[0;37;47m \u001b[0;30;47mfull\u001b[0;37;47m \u001b[0;30;47m-\u001b[0;37;47m \u001b[0;30;47mscale\u001b[0;37;47m \u001b[1;34;47mmotor\u001b[0;37;47m \u001b[0;30;47m##way\u001b[0;37;47m \u001b[1;34;47mbridge\u001b[0;37;47m \u001b[1;34;47mstructures\u001b[0;37;47m \u001b[0;30;47mto\u001b[0;37;47m \u001b[0;30;47mobtain\u001b[0;37;47m \u001b[0;30;47minformation\u001b[0;37;47m \u001b[0;30;47mconcerning\u001b[0;37;47m \u001b[0;30;47mthe\u001b[0;37;47m \u001b[1;34;47msteel\u001b[0;37;47m \u001b[0;30;47m–\u001b[0;37;47m \u001b[0;30;47mconcrete\u001b[0;37;47m \u001b[1;32;47minterface\u001b[0;37;47m \u001b[0;30;47mand\u001b[0;37;47m \u001b[0;30;47mis\u001b[0;37;47m \u001b[0;30;47mpart\u001b[0;37;47m \u001b[0;30;47mof\u001b[0;37;47m \u001b[0;30;47ma\u001b[0;37;47m \u001b[0;30;47mlarger\u001b[0;37;47m \u001b[0;30;47mstudy\u001b[0;37;47m \u001b[0;30;47mto\u001b[0;37;47m \u001b[0;30;47massess\u001b[0;37;47m \u001b[0;30;47mthe\u001b[0;37;47m \u001b[1;31;47mlong\u001b[0;37;47m \u001b[0;30;47m-\u001b[0;37;47m \u001b[0;30;47mterm\u001b[0;37;47m \u001b[1;31;47msustained\u001b[0;37;47m \u001b[1;31;47mbenefits\u001b[0;37;47m \u001b[0;30;47moffered\u001b[0;37;47m \u001b[0;30;47mby\u001b[0;37;47m \u001b[1;31;47mimp\u001b[0;37;47m \u001b[0;30;47m##ressed\u001b[0;37;47m \u001b[1;31;47mcurrent\u001b[0;37;47m \u001b[1;31;47mcath\u001b[0;37;47m \u001b[0;30;47m##odic\u001b[0;37;47m \u001b[1;31;47mprotection\u001b[0;37;47m \u001b[0;30;47m(\u001b[0;37;47m \u001b[1;31;47micc\u001b[0;37;47m \u001b[0;30;47m##p\u001b[0;37;47m \u001b[0;30;47m)\u001b[0;37;47m \u001b[0;30;47mafter\u001b[0;37;47m \u001b[0;30;47mthe\u001b[0;37;47m \u001b[1;31;47minterruption\u001b[0;37;47m \u001b[1;31;47mof\u001b[0;37;47m \u001b[1;31;47mthe\u001b[0;37;47m \u001b[1;31;47mprotective\u001b[0;37;47m \u001b[1;31;47mcurrent\u001b[0;37;47m \u001b[0;30;47m[\u001b[0;37;47m \u001b[0;30;47m1\u001b[0;37;47m \u001b[0;30;47m]\u001b[0;37;47m \u001b[0;30;47m.\u001b[0;37;47m \u001b[0;30;47mthese\u001b[0;37;47m \u001b[0;30;47mstructures\u001b[0;37;47m \u001b[0;30;47mhad\u001b[0;37;47m \u001b[0;30;47mpreviously\u001b[0;37;47m \u001b[0;30;47mbeen\u001b[0;37;47m \u001b[1;31;47mprotected\u001b[0;37;47m \u001b[0;30;47mfor\u001b[0;37;47m \u001b[0;30;47m5\u001b[0;37;47m \u001b[0;30;47m–\u001b[0;37;47m \u001b[0;30;47m16\u001b[0;37;47m \u001b[0;30;47m##years\u001b[0;37;47m \u001b[0;30;47mby\u001b[0;37;47m \u001b[0;30;47man\u001b[0;37;47m \u001b[1;31;47micc\u001b[0;37;47m \u001b[0;30;47m##p\u001b[0;37;47m \u001b[1;31;47msystem\u001b[0;37;47m \u001b[0;30;47mprior\u001b[0;37;47m \u001b[0;30;47mto\u001b[0;37;47m \u001b[0;30;47mthe\u001b[0;37;47m \u001b[0;30;47mstart\u001b[0;37;47m \u001b[0;30;47mof\u001b[0;37;47m \u001b[0;30;47mthe\u001b[0;37;47m \u001b[0;30;47mstudy\u001b[0;37;47m \u001b[0;30;47m.\u001b[0;37;47m \u001b[0;30;47mthe\u001b[0;37;47m \u001b[1;31;47mprotective\u001b[0;37;47m \u001b[1;31;47mcurrent\u001b[0;37;47m \u001b[1;31;47mwas\u001b[0;37;47m \u001b[1;31;47minterrupted\u001b[0;37;47m \u001b[0;30;47m,\u001b[0;37;47m \u001b[0;30;47min\u001b[0;37;47m \u001b[0;30;47morder\u001b[0;37;47m \u001b[0;30;47mto\u001b[0;37;47m \u001b[0;30;47massess\u001b[0;37;47m \u001b[0;30;47mthe\u001b[0;37;47m \u001b[0;30;47mlong\u001b[0;37;47m \u001b[0;30;47m-\u001b[0;37;47m \u001b[0;30;47mterm\u001b[0;37;47m \u001b[0;30;47mbenefits\u001b[0;37;47m \u001b[0;30;47mprovided\u001b[0;37;47m \u001b[0;30;47mby\u001b[0;37;47m \u001b[0;30;47micc\u001b[0;37;47m \u001b[0;30;47m##p\u001b[0;37;47m \u001b[0;30;47mafter\u001b[0;37;47m \u001b[0;30;47mit\u001b[0;37;47m \u001b[0;30;47mhas\u001b[0;37;47m \u001b[0;30;47mbeen\u001b[0;37;47m \u001b[0;30;47mturned\u001b[0;37;47m \u001b[0;30;47moff\u001b[0;37;47m \u001b[0;30;47m.\u001b[0;37;47m \u001b[0;30;47mthis\u001b[0;37;47m \u001b[0;30;47mpaper\u001b[0;37;47m \u001b[0;30;47mdevelops\u001b[0;37;47m \u001b[0;30;47mand\u001b[0;37;47m \u001b[0;30;47mexamines\u001b[0;37;47m \u001b[0;30;47ma\u001b[0;37;47m \u001b[0;30;47msimplified\u001b[0;37;47m \u001b[0;30;47mapproach\u001b[0;37;47m \u001b[0;30;47mfor\u001b[0;37;47m \u001b[0;30;47mthe\u001b[0;37;47m \u001b[0;30;47mon\u001b[0;37;47m \u001b[0;30;47m-\u001b[0;37;47m \u001b[0;30;47msite\u001b[0;37;47m \u001b[0;30;47muse\u001b[0;37;47m \u001b[0;30;47mof\u001b[0;37;47m \u001b[0;30;47mtransient\u001b[0;37;47m \u001b[0;30;47mresponse\u001b[0;37;47m \u001b[0;30;47manalysis\u001b[0;37;47m \u001b[0;30;47mand\u001b[0;37;47m \u001b[0;30;47mdiscusses\u001b[0;37;47m \u001b[0;30;47mthe\u001b[0;37;47m \u001b[0;30;47mpotential\u001b[0;37;47m \u001b[0;30;47madvantages\u001b[0;37;47m \u001b[0;30;47mof\u001b[0;37;47m \u001b[0;30;47mthe\u001b[0;37;47m \u001b[0;30;47mtechnique\u001b[0;37;47m \u001b[0;30;47mas\u001b[0;37;47m \u001b[0;30;47ma\u001b[0;37;47m \u001b[0;30;47mtool\u001b[0;37;47m \u001b[0;30;47mfor\u001b[0;37;47m \u001b[0;30;47mthe\u001b[0;37;47m \u001b[0;30;47massessment\u001b[0;37;47m \u001b[0;30;47mof\u001b[0;37;47m \u001b[0;30;47mthe\u001b[0;37;47m \u001b[0;30;47mcorrosion\u001b[0;37;47m \u001b[0;30;47mcondition\u001b[0;37;47m \u001b[0;30;47mof\u001b[0;37;47m \u001b[0;30;47msteel\u001b[0;37;47m \u001b[0;30;47min\u001b[0;37;47m \u001b[0;30;47mreinforced\u001b[0;37;47m \u001b[0;30;47mconcrete\u001b[0;37;47m \u001b[0;30;47mstructures\u001b[0;37;47m \u001b[0;30;47m.\u001b[0;37;47m \u001b[0;30;47m[SEP]\u001b[0;37;47m "
          ]
        }
      ],
      "source": [
        "# Testing\n",
        "text = '''\n",
        "The study outlines a trial of transient response analysis on full-scale motorway bridge structures to obtain information concerning the steel–concrete interface and is part of a larger study to assess the long-term sustained benefits offered by Impressed Current Cathodic Protection (ICCP) after the interruption of the protective current [1]. These structures had previously been protected for 5–16years by an ICCP system prior to the start of the study. The protective current was interrupted, in order to assess the long-term benefits provided by ICCP after it has been turned off. This paper develops and examines a simplified approach for the on-site use of transient response analysis and discusses the potential advantages of the technique as a tool for the assessment of the corrosion condition of steel in reinforced concrete structures.\n",
        "'''\n",
        "token_classification(text, True)"
      ]
    }
  ],
  "metadata": {
    "accelerator": "GPU",
    "colab": {
      "gpuType": "T4",
      "provenance": []
    },
    "kernelspec": {
      "display_name": "Python 3",
      "name": "python3"
    },
    "language_info": {
      "name": "python"
    }
  },
  "nbformat": 4,
  "nbformat_minor": 0
}
